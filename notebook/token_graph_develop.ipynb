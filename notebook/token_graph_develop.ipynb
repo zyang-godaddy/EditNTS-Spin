{
 "cells": [
  {
   "cell_type": "code",
   "execution_count": 1,
   "metadata": {},
   "outputs": [],
   "source": [
    "!pip -q install networkx \n",
    "!pip -q install matplotlib"
   ]
  },
  {
   "cell_type": "code",
   "execution_count": 2,
   "metadata": {},
   "outputs": [],
   "source": [
    "%matplotlib inline\n",
    "import networkx as nx \n",
    "import random \n",
    "import matplotlib.pyplot as plt "
   ]
  },
  {
   "cell_type": "code",
   "execution_count": 3,
   "metadata": {},
   "outputs": [],
   "source": [
    "develop_data = \"/Users/zyang/Documents/VSCode/DeepSpin/develop.data\"\n",
    "with open(develop_data, 'r') as fin: \n",
    "    lines = fin.readlines()\n",
    "\n",
    "\n",
    "G = nx.DiGraph()\n",
    "for line in lines: \n",
    "    node1, node2, _ = line.split('\\t')\n",
    "    for node in [node1, node2]: \n",
    "        node_lst = node.split(' ')\n",
    "        node_pairs = []\n",
    "        for i in range(len(node_lst)-1): \n",
    "            node_pairs.append((node_lst[i], node_lst[i+1]))\n",
    "        G.add_edges_from(node_pairs)"
   ]
  },
  {
   "cell_type": "code",
   "execution_count": 4,
   "metadata": {},
   "outputs": [
    {
     "name": "stdout",
     "output_type": "stream",
     "text": [
      "number of queries:  14708502\n",
      "\n",
      "number of nodes:  166305\n",
      "\n",
      "number of edges:  4990312\n",
      "\n",
      "edges/nodes:  60.013974324283694\n"
     ]
    }
   ],
   "source": [
    "print(\"number of queries: \", 2*len(lines))\n",
    "print(\"\\nnumber of nodes: \", G.number_of_nodes())\n",
    "print(\"\\nnumber of edges: \", G.number_of_edges())\n",
    "print(\"\\nedges/nodes: \", 2*G.number_of_edges()/G.number_of_nodes())"
   ]
  },
  {
   "cell_type": "code",
   "execution_count": 6,
   "metadata": {},
   "outputs": [
    {
     "name": "stdout",
     "output_type": "stream",
     "text": [
      "number of connected components 62189\n",
      "\n",
      "top 20 degrees:  [13605, 13638, 13825, 14285, 14389, 14613, 14685, 14871, 15657, 15881, 17167, 19135, 19289, 20024, 20621, 29811, 31225, 34616, 42815, 54947]\n"
     ]
    }
   ],
   "source": [
    "# analyze graph \n",
    "# https://mathoverflow.net/questions/6833/difference-between-connected-vs-strongly-connected-vs-complete-graphs\n",
    "# Strongly connected is usually associated with directed graphs (one way edges): there is a route between every two nodes\n",
    "components_list = list(nx.strongly_connected_components(G))\n",
    "degree_lst = [d for n, d in G.degree()]\n",
    "print(\"number of connected components\" ,len(components_list))\n",
    "\n",
    "print(\"\\ntop 20 degrees: \", sorted(degree_lst)[-20:])"
   ]
  },
  {
   "cell_type": "code",
   "execution_count": 7,
   "metadata": {},
   "outputs": [
    {
     "data": {
      "text/plain": [
       "{'design': 13605,\n",
       " 'group': 13638,\n",
       " 'co': 13825,\n",
       " 'media': 14285,\n",
       " 'shop': 14389,\n",
       " 'life': 14613,\n",
       " 'to': 14685,\n",
       " 'tech': 14871,\n",
       " 'for': 15657,\n",
       " 'home': 15881,\n",
       " 'of': 17167,\n",
       " 'in': 19135,\n",
       " 'my': 19289,\n",
       " 'i': 20024,\n",
       " 'e': 20621,\n",
       " 'and': 29811,\n",
       " 'a': 31225,\n",
       " 'the': 34616,\n",
       " 's': 42815,\n",
       " '-': 54947}"
      ]
     },
     "execution_count": 7,
     "metadata": {},
     "output_type": "execute_result"
    }
   ],
   "source": [
    "# sorted(degree_lst, key=lambda x: x[1])[-20:]\n",
    "g_dict = {n:d for n, d in G.degree()}\n",
    "nodes = {n: d for n, d in sorted(g_dict.items(), key=lambda item: item[1])[-20:]}\n",
    "nodes\n"
   ]
  },
  {
   "cell_type": "code",
   "execution_count": 8,
   "metadata": {},
   "outputs": [
    {
     "data": {
      "image/png": "[encoded data removed]",
      "text/plain": [
       "<Figure size 1000x800 with 1 Axes>"
      ]
     },
     "metadata": {
      "needs_background": "light"
     },
     "output_type": "display_data"
    }
   ],
   "source": [
    "# a distribution of degrees \n",
    "fig, ax = plt.subplots(1, 1, figsize=(10,8), dpi=100)\n",
    "\n",
    "ax.hist(degree_lst, alpha=0.5, bins=100)\n",
    "# ax.set_xlim(0, 100)\n",
    "ax.set_ylim(0, 5000)\n",
    "plt.savefig(\"/Users/zyang/Documents/VSCode/DeepSpin/degree_dist_2.jpg\")\n",
    "# plt.show()"
   ]
  },
  {
   "cell_type": "code",
   "execution_count": 10,
   "metadata": {},
   "outputs": [
    {
     "name": "stdout",
     "output_type": "stream",
     "text": [
      "lien has direct neighbours:  ['filer', 'online', 's', 'investing', 'sales', 'sale', 'point', 'sphere', 'monitor', 'index', 'vegetables', 'properties', 'busters', 'solutions', 't', 'on', 'help', 'certificate', 'certificates', 'recording', 'recordings', 'productions', 'lawyer', 'customs', 'bloomfield', 'ojeda', 'ce', 'records', 'law', 'alert', 'conscience', 'spotter', 'buster', 'felter', 'rockstar', 'auction', 'mechanics', 'a', 'profits', 'auctions', 'solution', 'pros', 'n', 'analyzer', 'service', 'system', 'homes', 'technology', 'hoa', 'z', 'te', 'tele', 'cer', 'antique', 'hound', 'scenario', 'track', 'farm', 'cider', 'orchard', 'coaching', 'coach', 'coaches', 'tran', 'vo', 'network', 'calibration', 'ab', 'et', 'ins', 'academy', 'investor', 'buyers', 'flipping', 'flipper', 'flip', 'group', 'de', 'resolution', 'custom', 'investment', 'investments', 'tes', 'g', '-', 'md', 'yahoo', 'usa', 'education', 'living', 'and', 'cars', 'ho', 'talks', 'shares', 'chen', 'collections', 'removal', 'gone', 'be', 'removed', 'deleted', 'loans', 'center', 'web', 'city', 'land', 'leads', 'go', 'machine', 'services', 'payment', 'paid', 'fc', 'justice', 'shield', 'buyer', 'registration', 'e', 'doctors', 'medics', 'dr', 'medic', 'relief', 'guru', 'release', 'houses', 'home', 'fortunes', 'queen', 'qween', 'ease', 'aware', 'peeper', 'filing', 'docs', 'it', 'fili', 'er', 'produc', 'procurement', 'acquisitions', 'take_over', 'purchaser', 'foundation', 'consultants', 'do', 'minh', 'copy', 'le', 'nha', 'thuy', 'capri', 'book', 'settlement', 'settlements', 'resolutions', 're', 'alien', 'masters', 'master', 'club', 'i', 'tt', 'man', 'king']\n",
      "\n",
      "lien's degree:  287\n"
     ]
    }
   ],
   "source": [
    "# get degree and neighbours\n",
    "\n",
    "def get_random_token(): \n",
    "    random_index = random.randint(0, len(lines)-1)\n",
    "    random_line = lines[random_index]\n",
    "    random_index_2 = random.randint(0, 1)\n",
    "    random_query = random_line.split('\\t')[random_index_2]\n",
    "    random_token_lst = random_query.split(' ')\n",
    "    return random.choice(random_token_lst)\n",
    "\n",
    "rand_token = get_random_token()\n",
    "print(f\"{rand_token} has direct neighbours: \", list(G.adj[rand_token]))\n",
    "print(f\"\\n{rand_token}'s degree: \", G.degree[rand_token])"
   ]
  },
  {
   "cell_type": "code",
   "execution_count": 11,
   "metadata": {},
   "outputs": [
    {
     "name": "stdout",
     "output_type": "stream",
     "text": [
      "number of nodes in this component:  104113\n"
     ]
    }
   ],
   "source": [
    "# visualize a components \n",
    "\n",
    "def get_component(components, token): \n",
    "    for component in components: \n",
    "        if token in component: \n",
    "            return list(component) \n",
    "    raise Exception(f\"{token} not in graph\")\n",
    "\n",
    "\n",
    "target_nodes = get_component(components_list, rand_token)\n",
    "print(\"number of nodes in this component: \", len(target_nodes))\n",
    "if len(target_nodes) < 10:\n",
    "    nx.draw_shell(G.subgraph(target_nodes))\n"
   ]
  },
  {
   "cell_type": "code",
   "execution_count": 12,
   "metadata": {},
   "outputs": [
    {
     "name": "stdout",
     "output_type": "stream",
     "text": [
      "['givney', 'brug', 'garge', 'ihe', 'alcance', 'vanek', 'divided', 'babushka', 'spire', 'deflation']\n"
     ]
    }
   ],
   "source": [
    "print(target_nodes[:10])"
   ]
  },
  {
   "cell_type": "code",
   "execution_count": 13,
   "metadata": {},
   "outputs": [
    {
     "name": "stdout",
     "output_type": "stream",
     "text": [
      "number of small components,  62188\n",
      "\n",
      "component nodes:  {'fawning'}\n"
     ]
    },
    {
     "data": {
      "image/png": "[encoded data removed]",
      "text/plain": [
       "<Figure size 432x288 with 1 Axes>"
      ]
     },
     "metadata": {},
     "output_type": "display_data"
    }
   ],
   "source": [
    "# visualize small components \n",
    "\n",
    "small_components = [component for component in components_list if len(component)<10]\n",
    "print(\"number of small components, \", len(small_components))\n",
    "\n",
    "rand_index = random.randint(0, len(small_components)-1)\n",
    "target_component = small_components[rand_index]\n",
    "\n",
    "print('\\ncomponent nodes: ', target_component)\n",
    "nx.draw_shell(G.subgraph(target_component), with_labels=True)\n",
    "plt.show()"
   ]
  },
  {
   "cell_type": "code",
   "execution_count": null,
   "metadata": {},
   "outputs": [],
   "source": [
    "# directed graph, realty -> realty agent , \n",
    "# weight, some writing are more popular than others \n",
    "# update graph near real-time, trending query, 20qps\n",
    "# build edge based on pseudo edge, substring"
   ]
  }
 ],
 "metadata": {
  "kernelspec": {
   "display_name": "Python 3.8.13 ('DeepRank')",
   "language": "python",
   "name": "python3"
  },
  "language_info": {
   "codemirror_mode": {
    "name": "ipython",
    "version": 3
   },
   "file_extension": ".py",
   "mimetype": "text/x-python",
   "name": "python",
   "nbconvert_exporter": "python",
   "pygments_lexer": "ipython3",
   "version": "3.8.13"
  },
  "orig_nbformat": 4,
  "vscode": {
   "interpreter": {
    "hash": "d299ec0e4ca22501682baeb174ab863662a70457e591dde93cb338e6e518fb3c"
   }
  }
 },
 "nbformat": 4,
 "nbformat_minor": 2
}
