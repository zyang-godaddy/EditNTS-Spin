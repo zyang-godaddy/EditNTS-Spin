{
 "cells": [
  {
   "cell_type": "code",
   "execution_count": 2,
   "metadata": {},
   "outputs": [],
   "source": [
    "!pip -q install networkx \n",
    "!pip -q install matplotlib"
   ]
  },
  {
   "cell_type": "code",
   "execution_count": 3,
   "metadata": {},
   "outputs": [],
   "source": [
    "%matplotlib inline\n",
    "import networkx as nx \n",
    "import random \n",
    "import matplotlib.pyplot as plt "
   ]
  },
  {
   "cell_type": "code",
   "execution_count": 4,
   "metadata": {},
   "outputs": [],
   "source": [
    "train_data = \"/Users/zyang/Documents/VSCode/DeepSpin/train.data\"\n",
    "with open(train_data, 'r') as fin: \n",
    "    lines = fin.readlines()\n",
    "\n",
    "\n",
    "G = nx.Graph()\n",
    "for line in lines: \n",
    "    node1, node2, _ = line.split('\\t')\n",
    "    G.add_edge(node1, node2)"
   ]
  },
  {
   "cell_type": "code",
   "execution_count": 5,
   "metadata": {},
   "outputs": [
    {
     "name": "stdout",
     "output_type": "stream",
     "text": [
      "number of queries:  108452836\n",
      "\n",
      "number of nodes:  38247727\n",
      "\n",
      "number of edges:  45139550\n",
      "\n",
      "edges/nodes:  2.3603781735840146\n"
     ]
    }
   ],
   "source": [
    "print(\"number of queries: \", 2*len(lines))\n",
    "print(\"\\nnumber of nodes: \", G.number_of_nodes())\n",
    "print(\"\\nnumber of edges: \", G.number_of_edges())\n",
    "print(\"\\nedges/nodes: \", 2*G.number_of_edges()/G.number_of_nodes())"
   ]
  },
  {
   "cell_type": "code",
   "execution_count": 6,
   "metadata": {},
   "outputs": [
    {
     "name": "stdout",
     "output_type": "stream",
     "text": [
      "number of connected components 4484275\n",
      "\n",
      "top 20 degrees:  [2224, 2257, 2307, 2423, 2531, 2565, 2671, 2687, 2693, 2695, 2697, 2698, 2748, 3038, 3047, 3060, 3156, 3486, 3486, 3615]\n"
     ]
    }
   ],
   "source": [
    "# analyze graph \n",
    "components_list = list(nx.connected_components(G))\n",
    "degree_lst = [d for n, d in G.degree()]\n",
    "print(\"number of connected components\" ,len(components_list))\n",
    "\n",
    "print(\"\\ntop 20 degrees: \", sorted(degree_lst)[-20:])"
   ]
  },
  {
   "cell_type": "code",
   "execution_count": 7,
   "metadata": {},
   "outputs": [
    {
     "data": {
      "text/plain": [
       "{'smart': 2224,\n",
       " 'media': 2257,\n",
       " 'drone': 2307,\n",
       " 'com': 2423,\n",
       " 'love': 2531,\n",
       " 'solutions': 2565,\n",
       " 'my': 2671,\n",
       " 'a': 2687,\n",
       " 'shop': 2693,\n",
       " 'the': 2695,\n",
       " 'cloud': 2697,\n",
       " 'health': 2698,\n",
       " 'marketing': 2748,\n",
       " 'art': 3038,\n",
       " 'home': 3047,\n",
       " 'life': 3060,\n",
       " 'travel': 3156,\n",
       " 'design': 3486,\n",
       " 'tech': 3486,\n",
       " 'real_estate': 3615}"
      ]
     },
     "execution_count": 7,
     "metadata": {},
     "output_type": "execute_result"
    }
   ],
   "source": [
    "# sorted(degree_lst, key=lambda x: x[1])[-20:]\n",
    "g_dict = {n:d for n, d in G.degree()}\n",
    "nodes = {n: d for n, d in sorted(g_dict.items(), key=lambda item: item[1])[-20:]}\n",
    "nodes\n"
   ]
  },
  {
   "cell_type": "code",
   "execution_count": 8,
   "metadata": {},
   "outputs": [
    {
     "data": {
      "image/png": "[encoded data removed]",
      "text/plain": [
       "<Figure size 1000x800 with 1 Axes>"
      ]
     },
     "metadata": {
      "needs_background": "light"
     },
     "output_type": "display_data"
    }
   ],
   "source": [
    "# a distribution of degrees \n",
    "fig, ax = plt.subplots(1, 1, figsize=(10,8), dpi=100)\n",
    "\n",
    "ax.hist(degree_lst, alpha=0.5, bins=100)\n",
    "# ax.set_xlim(0, 100)\n",
    "ax.set_ylim(0, 5000)\n",
    "plt.savefig(\"/Users/zyang/Documents/VSCode/DeepSpin/degree_dist_2.jpg\")\n",
    "# plt.show()"
   ]
  },
  {
   "cell_type": "code",
   "execution_count": 9,
   "metadata": {},
   "outputs": [
    {
     "name": "stdout",
     "output_type": "stream",
     "text": [
      "the proper penguin llc has direct neighbours:  ['the proper penguin', 'tp penguin']\n",
      "\n",
      "the proper penguin llc's degree:  2\n"
     ]
    }
   ],
   "source": [
    "# get degree and neighbours\n",
    "\n",
    "def get_random_query(): \n",
    "    random_index = random.randint(0, len(lines)-1)\n",
    "    random_line = lines[random_index]\n",
    "    return random_line.split('\\t')[0]\n",
    "\n",
    "# make_up mommy\n",
    "rand_query = get_random_query()\n",
    "print(f\"{rand_query} has direct neighbours: \", list(G.adj[rand_query]))\n",
    "print(f\"\\n{rand_query}'s degree: \", G.degree[rand_query])"
   ]
  },
  {
   "cell_type": "code",
   "execution_count": 10,
   "metadata": {},
   "outputs": [
    {
     "name": "stdout",
     "output_type": "stream",
     "text": [
      "number of nodes in this component:  25748914\n"
     ]
    }
   ],
   "source": [
    "# visualize a components \n",
    "\n",
    "def get_component(components, query): \n",
    "    for component in components: \n",
    "        if query in component: \n",
    "            return list(component) \n",
    "    raise Exception(f\"{query} not in graph\")\n",
    "\n",
    "\n",
    "target_nodes = get_component(components_list, rand_query)\n",
    "print(\"number of nodes in this component: \", len(target_nodes))\n",
    "if len(target_nodes) < 10:\n",
    "    nx.draw_shell(G.subgraph(target_nodes))\n"
   ]
  },
  {
   "cell_type": "code",
   "execution_count": 11,
   "metadata": {},
   "outputs": [
    {
     "name": "stdout",
     "output_type": "stream",
     "text": [
      "['marco rubio biography', 'the next level pro', 'natural beauty fine art', 'the 24 carat', 'media loud', 'si c or - trading', 'your name star', 'ebb and flow mom', 'coastal transcription', 's 3 supplements']\n"
     ]
    }
   ],
   "source": [
    "print(target_nodes[:10])"
   ]
  },
  {
   "cell_type": "code",
   "execution_count": 12,
   "metadata": {},
   "outputs": [
    {
     "name": "stdout",
     "output_type": "stream",
     "text": [
      "number of small components,  4434454\n",
      "\n",
      "component nodes:  {'tourbillon de couleur', 'tourbillon de couleurs'}\n"
     ]
    },
    {
     "data": {
      "image/png": "[encoded data removed]",
      "text/plain": [
       "<Figure size 432x288 with 1 Axes>"
      ]
     },
     "metadata": {},
     "output_type": "display_data"
    }
   ],
   "source": [
    "# visualize small components \n",
    "\n",
    "small_components = [component for component in components_list if len(component)<10]\n",
    "print(\"number of small components, \", len(small_components))\n",
    "\n",
    "rand_index = random.randint(0, len(small_components)-1)\n",
    "target_component = small_components[rand_index]\n",
    "\n",
    "print('\\ncomponent nodes: ', target_component)\n",
    "nx.draw_shell(G.subgraph(target_component), with_labels=True)\n",
    "plt.show()"
   ]
  },
  {
   "cell_type": "code",
   "execution_count": 13,
   "metadata": {},
   "outputs": [],
   "source": [
    "# directed graph, realty -> realty agent , \n",
    "# weight, some writing are more popular than others \n",
    "# update graph near real-time, trending query, 20qps\n",
    "# build edge based on pseudo edge, substring"
   ]
  }
 ],
 "metadata": {
  "kernelspec": {
   "display_name": "Python 3.8.13 ('DeepRank')",
   "language": "python",
   "name": "python3"
  },
  "language_info": {
   "codemirror_mode": {
    "name": "ipython",
    "version": 3
   },
   "file_extension": ".py",
   "mimetype": "text/x-python",
   "name": "python",
   "nbconvert_exporter": "python",
   "pygments_lexer": "ipython3",
   "version": "3.8.13"
  },
  "orig_nbformat": 4,
  "vscode": {
   "interpreter": {
    "hash": "d299ec0e4ca22501682baeb174ab863662a70457e591dde93cb338e6e518fb3c"
   }
  }
 },
 "nbformat": 4,
 "nbformat_minor": 2
}
