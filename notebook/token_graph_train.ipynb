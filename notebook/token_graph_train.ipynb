{
 "cells": [
  {
   "cell_type": "code",
   "execution_count": 1,
   "metadata": {},
   "outputs": [],
   "source": [
    "!pip -q install networkx \n",
    "!pip -q install matplotlib"
   ]
  },
  {
   "cell_type": "code",
   "execution_count": 2,
   "metadata": {},
   "outputs": [],
   "source": [
    "%matplotlib inline\n",
    "import networkx as nx \n",
    "import random \n",
    "import matplotlib.pyplot as plt "
   ]
  },
  {
   "cell_type": "code",
   "execution_count": 3,
   "metadata": {},
   "outputs": [],
   "source": [
    "train_data = \"/Users/zyang/Documents/VSCode/DeepSpin/train.data\"\n",
    "with open(train_data, 'r') as fin: \n",
    "    lines = fin.readlines()\n",
    "\n",
    "\n",
    "G = nx.DiGraph()\n",
    "for line in lines: \n",
    "    node1, node2, _ = line.split('\\t')\n",
    "    for node in [node1, node2]: \n",
    "        node_lst = node.split(' ')\n",
    "        node_pairs = []\n",
    "        for i in range(len(node_lst)-1): \n",
    "            node_pairs.append((node_lst[i], node_lst[i+1]))\n",
    "        G.add_edges_from(node_pairs)"
   ]
  },
  {
   "cell_type": "code",
   "execution_count": 4,
   "metadata": {},
   "outputs": [
    {
     "name": "stdout",
     "output_type": "stream",
     "text": [
      "number of queries:  108452836\n",
      "\n",
      "number of nodes:  356919\n",
      "\n",
      "number of edges:  21722780\n",
      "\n",
      "edges/nodes:  121.72386451828005\n"
     ]
    }
   ],
   "source": [
    "print(\"number of queries: \", 2*len(lines))\n",
    "print(\"\\nnumber of nodes: \", G.number_of_nodes())\n",
    "print(\"\\nnumber of edges: \", G.number_of_edges())\n",
    "print(\"\\nedges/nodes: \", 2*G.number_of_edges()/G.number_of_nodes())"
   ]
  },
  {
   "cell_type": "code",
   "execution_count": 5,
   "metadata": {},
   "outputs": [
    {
     "name": "stdout",
     "output_type": "stream",
     "text": [
      "number of connected components 136181\n",
      "\n",
      "top 20 degrees:  [41669, 41941, 42210, 42268, 42862, 42897, 43109, 43859, 44356, 46034, 46200, 51329, 55879, 60314, 63239, 73987, 83785, 90230, 110503, 162050]\n"
     ]
    }
   ],
   "source": [
    "# analyze graph \n",
    "# https://mathoverflow.net/questions/6833/difference-between-connected-vs-strongly-connected-vs-complete-graphs\n",
    "# Strongly connected is usually associated with directed graphs (one way edges): there is a route between every two nodes\n",
    "components_list = list(nx.strongly_connected_components(G))\n",
    "degree_lst = [d for n, d in G.degree()]\n",
    "print(\"number of connected components\" ,len(components_list))\n",
    "\n",
    "print(\"\\ntop 20 degrees: \", sorted(degree_lst)[-20:])"
   ]
  },
  {
   "cell_type": "code",
   "execution_count": 6,
   "metadata": {},
   "outputs": [
    {
     "data": {
      "text/plain": [
       "{'d': 41669,\n",
       " 'design': 41941,\n",
       " 'to': 42210,\n",
       " 'group': 42268,\n",
       " 'web': 42862,\n",
       " 'home': 42897,\n",
       " 'y': 43109,\n",
       " 'for': 43859,\n",
       " 'shop': 44356,\n",
       " 'of': 46034,\n",
       " 'tech': 46200,\n",
       " 'my': 51329,\n",
       " 'in': 55879,\n",
       " 'i': 60314,\n",
       " 'e': 63239,\n",
       " 'and': 73987,\n",
       " 'the': 83785,\n",
       " 'a': 90230,\n",
       " 's': 110503,\n",
       " '-': 162050}"
      ]
     },
     "execution_count": 6,
     "metadata": {},
     "output_type": "execute_result"
    }
   ],
   "source": [
    "# sorted(degree_lst, key=lambda x: x[1])[-20:]\n",
    "g_dict = {n:d for n, d in G.degree()}\n",
    "nodes = {n: d for n, d in sorted(g_dict.items(), key=lambda item: item[1])[-20:]}\n",
    "nodes\n"
   ]
  },
  {
   "cell_type": "code",
   "execution_count": 7,
   "metadata": {},
   "outputs": [
    {
     "data": {
      "image/png": "[encoded data removed]",
      "text/plain": [
       "<Figure size 1000x800 with 1 Axes>"
      ]
     },
     "metadata": {
      "needs_background": "light"
     },
     "output_type": "display_data"
    }
   ],
   "source": [
    "# a distribution of degrees \n",
    "fig, ax = plt.subplots(1, 1, figsize=(10,8), dpi=100)\n",
    "\n",
    "ax.hist(degree_lst, alpha=0.5, bins=100)\n",
    "# ax.set_xlim(0, 100)\n",
    "ax.set_ylim(0, 5000)\n",
    "plt.savefig(\"/Users/zyang/Documents/VSCode/DeepSpin/degree_dist_2.jpg\")\n",
    "# plt.show()"
   ]
  },
  {
   "cell_type": "code",
   "execution_count": 13,
   "metadata": {},
   "outputs": [
    {
     "name": "stdout",
     "output_type": "stream",
     "text": [
      "home has direct neighbours:  ['today', 'inspection', 'inspect', 'health', 'care', 'properties', 'co', 'buyers', 'decor', 'values', 'cooking', 'baker', 'recipes', 'baking', 'cook', 'life', 'my', 'is', 'shirts', 'building', 'assist', 'grown', 'sales', 'depot', 'booker']\n",
      "\n",
      "home's degree:  42897\n"
     ]
    }
   ],
   "source": [
    "# get degree and neighbours\n",
    "\n",
    "def get_random_token(): \n",
    "    random_index = random.randint(0, len(lines)-1)\n",
    "    random_line = lines[random_index]\n",
    "    random_index_2 = random.randint(0, 1)\n",
    "    random_query = random_line.split('\\t')[random_index_2]\n",
    "    random_token_lst = random_query.split(' ')\n",
    "    return random.choice(random_token_lst)\n",
    "\n",
    "rand_token = get_random_token()\n",
    "print(f\"{rand_token} has direct neighbours: \", list(G.adj[rand_token])[:25])\n",
    "print(f\"\\n{rand_token}'s degree: \", G.degree[rand_token])"
   ]
  },
  {
   "cell_type": "code",
   "execution_count": 9,
   "metadata": {},
   "outputs": [
    {
     "name": "stdout",
     "output_type": "stream",
     "text": [
      "number of nodes in this component:  220738\n"
     ]
    }
   ],
   "source": [
    "# visualize a components \n",
    "\n",
    "def get_component(components, token): \n",
    "    for component in components: \n",
    "        if token in component: \n",
    "            return list(component) \n",
    "    raise Exception(f\"{token} not in graph\")\n",
    "\n",
    "\n",
    "target_nodes = get_component(components_list, rand_token)\n",
    "print(\"number of nodes in this component: \", len(target_nodes))\n",
    "if len(target_nodes) < 10:\n",
    "    nx.draw_shell(G.subgraph(target_nodes))\n"
   ]
  },
  {
   "cell_type": "code",
   "execution_count": 10,
   "metadata": {},
   "outputs": [
    {
     "name": "stdout",
     "output_type": "stream",
     "text": [
      "['seglias', 'yavi', 'heitmann', 'abused', 'runnels', 'mobbing', 'circumnavigation', 'publikation', 'kuiken', 'albena']\n"
     ]
    }
   ],
   "source": [
    "print(target_nodes[:10])"
   ]
  },
  {
   "cell_type": "code",
   "execution_count": 21,
   "metadata": {},
   "outputs": [
    {
     "name": "stdout",
     "output_type": "stream",
     "text": [
      "number of small components,  136180\n",
      "\n",
      "component nodes:  {'mudry'}\n"
     ]
    },
    {
     "data": {
      "image/png": "[encoded data removed]",
      "text/plain": [
       "<Figure size 432x288 with 1 Axes>"
      ]
     },
     "metadata": {},
     "output_type": "display_data"
    }
   ],
   "source": [
    "# visualize small components \n",
    "\n",
    "small_components = [component for component in components_list if len(component)<100000]\n",
    "print(\"number of small components, \", len(small_components))\n",
    "\n",
    "rand_index = random.randint(0, len(small_components)-1)\n",
    "target_component = small_components[rand_index]\n",
    "\n",
    "print('\\ncomponent nodes: ', target_component)\n",
    "nx.draw_shell(G.subgraph(target_component), with_labels=True)\n",
    "plt.show()"
   ]
  },
  {
   "cell_type": "code",
   "execution_count": 12,
   "metadata": {},
   "outputs": [],
   "source": [
    "# directed graph, realty -> realty agent , \n",
    "# weight, some writing are more popular than others \n",
    "# update graph near real-time, trending query, 20qps\n",
    "# build edge based on pseudo edge, substring"
   ]
  }
 ],
 "metadata": {
  "kernelspec": {
   "display_name": "Python 3.8.13 ('DeepRank')",
   "language": "python",
   "name": "python3"
  },
  "language_info": {
   "codemirror_mode": {
    "name": "ipython",
    "version": 3
   },
   "file_extension": ".py",
   "mimetype": "text/x-python",
   "name": "python",
   "nbconvert_exporter": "python",
   "pygments_lexer": "ipython3",
   "version": "3.8.13"
  },
  "orig_nbformat": 4,
  "vscode": {
   "interpreter": {
    "hash": "d299ec0e4ca22501682baeb174ab863662a70457e591dde93cb338e6e518fb3c"
   }
  }
 },
 "nbformat": 4,
 "nbformat_minor": 2
}
