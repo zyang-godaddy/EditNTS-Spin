{
 "cells": [
  {
   "cell_type": "code",
   "execution_count": 11,
   "metadata": {},
   "outputs": [],
   "source": [
    "!pip -q install networkx \n",
    "!pip -q install matplotlib"
   ]
  },
  {
   "cell_type": "code",
   "execution_count": 64,
   "metadata": {},
   "outputs": [],
   "source": [
    "%matplotlib inline\n",
    "import networkx as nx \n",
    "import random \n",
    "import matplotlib.pyplot as plt "
   ]
  },
  {
   "cell_type": "code",
   "execution_count": 3,
   "metadata": {},
   "outputs": [],
   "source": [
    "develop_data = \"/Users/zyang/Documents/VSCode/DeepSpin/develop.data\"\n",
    "with open(develop_data, 'r') as fin: \n",
    "    lines = fin.readlines()\n",
    "\n",
    "\n",
    "G = nx.Graph()\n",
    "for line in lines: \n",
    "    node1, node2, _ = line.split('\\t')\n",
    "    G.add_edge(node1, node2)"
   ]
  },
  {
   "cell_type": "code",
   "execution_count": 2,
   "metadata": {},
   "outputs": [],
   "source": [
    "import csv \n",
    "develop_data = \"/Users/zyang/Documents/VSCode/DeepSpin/develop.data\"\n",
    "with open(develop_data, 'r') as fin: \n",
    "    lines = fin.readlines()\n",
    "\n",
    "fout1 = open('/Users/zyang/Documents/VSCode/DeepSpin/develop_trump.csv', 'w')\n",
    "writer1 = csv.writer(fout1)\n",
    "writer1.writerow(['query_1', 'query_2', 'line'])\n",
    "\n",
    "fout2 = open('/Users/zyang/Documents/VSCode/DeepSpin/develop_longer.csv', 'w')\n",
    "writer2 = csv.writer(fout2)\n",
    "writer2.writerow(['query_1', 'query_2', 'rest', 'line'])\n",
    "\n",
    "fout3 = open('/Users/zyang/Documents/VSCode/DeepSpin/develop_nodevelop.csv', 'w')\n",
    "writer3 = csv.writer(fout3)\n",
    "writer3.writerow(['query_1', 'query_2', 'rest', 'line'])\n",
    "\n",
    "for line in lines: \n",
    "\n",
    "    node1, node2, rest = line.split('\\t')\n",
    "    if 'develop' not in line: \n",
    "        writer3.writerow([node1, node2, rest, line])\n",
    "    if len(line.split('\\t')) != 3:\n",
    "        writer2.writerow([node1, node2, rest, line])\n",
    "    if 'trump' in node1 or 'trump' in node2: \n",
    "        writer1.writerow([node1, node2, line])\n",
    "\n",
    "fout1.close()\n",
    "fout2.close()\n",
    "fout3.close()\n"
   ]
  },
  {
   "cell_type": "code",
   "execution_count": 32,
   "metadata": {},
   "outputs": [
    {
     "name": "stdout",
     "output_type": "stream",
     "text": [
      "number of queries:  14708502\n",
      "\n",
      "number of nodes:  6716354\n",
      "\n",
      "number of edges:  6368120\n",
      "\n",
      "edges/nodes:  1.8963026665955964\n"
     ]
    }
   ],
   "source": [
    "print(\"number of queries: \", 2*len(lines))\n",
    "print(\"\\nnumber of nodes: \", G.number_of_nodes())\n",
    "print(\"\\nnumber of edges: \", G.number_of_edges())\n",
    "print(\"\\nedges/nodes: \", 2*G.number_of_edges()/G.number_of_nodes())"
   ]
  },
  {
   "cell_type": "code",
   "execution_count": 35,
   "metadata": {},
   "outputs": [
    {
     "name": "stdout",
     "output_type": "stream",
     "text": [
      "number of connected components 1160645\n",
      "\n",
      "top 20 degrees:  [432, 436, 450, 453, 465, 475, 478, 480, 483, 561, 578, 609, 611, 615, 622, 625, 663, 668, 708, 1061]\n"
     ]
    }
   ],
   "source": [
    "# analyze graph \n",
    "components_list = list(nx.connected_components(G))\n",
    "degree_lst = [d for n, d in G.degree()]\n",
    "print(\"number of connected components\" ,len(components_list))\n",
    "\n",
    "print(\"\\ntop 20 degrees: \", sorted(degree_lst)[-20:])"
   ]
  },
  {
   "cell_type": "code",
   "execution_count": 51,
   "metadata": {},
   "outputs": [
    {
     "data": {
      "text/plain": [
       "{'social': 432,\n",
       " 'art': 436,\n",
       " 'solutions': 450,\n",
       " 'data': 453,\n",
       " 'shop': 465,\n",
       " 'design': 475,\n",
       " 'the': 478,\n",
       " 'my': 480,\n",
       " 'cloud': 483,\n",
       " 'life': 561,\n",
       " 'drone': 578,\n",
       " 'marketing': 609,\n",
       " 'impeach trump': 611,\n",
       " 'travel': 615,\n",
       " 'dump trump': 622,\n",
       " 'home': 625,\n",
       " 'fake news': 663,\n",
       " 'tech': 668,\n",
       " 'real_estate': 708,\n",
       " 'trump': 1061}"
      ]
     },
     "execution_count": 51,
     "metadata": {},
     "output_type": "execute_result"
    }
   ],
   "source": [
    "# sorted(degree_lst, key=lambda x: x[1])[-20:]\n",
    "g_dict = {n:d for n, d in G.degree()}\n",
    "nodes = {n: d for n, d in sorted(g_dict.items(), key=lambda item: item[1])[-20:]}\n",
    "nodes\n"
   ]
  },
  {
   "cell_type": "code",
   "execution_count": 43,
   "metadata": {},
   "outputs": [],
   "source": [
    "# a distribution of degrees \n",
    "fig, ax = plt.subplots(1, 1, figsize=(10,8), dpi=100)\n",
    "\n",
    "ax.hist(degree_lst, alpha=0.5, bins=100)\n",
    "# ax.set_xlim(0, 100)\n",
    "ax.set_ylim(0, 5000)\n",
    "plt.savefig(\"/Users/zyang/Documents/VSCode/DeepSpin/degree_dist_2.jpg\")\n",
    "# plt.show()"
   ]
  },
  {
   "cell_type": "code",
   "execution_count": 54,
   "metadata": {},
   "outputs": [
    {
     "name": "stdout",
     "output_type": "stream",
     "text": [
      "new realty media has direct neighbours:  ['new real_estate media', 'new business media', 'business media group']\n",
      "\n",
      "new realty media's degree:  3\n"
     ]
    }
   ],
   "source": [
    "# get degree and neighbours\n",
    "\n",
    "def get_random_query(): \n",
    "    random_index = random.randint(0, len(lines)-1)\n",
    "    random_line = lines[random_index]\n",
    "    return random_line.split('\\t')[0]\n",
    "\n",
    "# make_up mommy\n",
    "rand_query = get_random_query()\n",
    "print(f\"{rand_query} has direct neighbours: \", list(G.adj[rand_query]))\n",
    "print(f\"\\n{rand_query}'s degree: \", G.degree[rand_query])"
   ]
  },
  {
   "cell_type": "code",
   "execution_count": 55,
   "metadata": {},
   "outputs": [
    {
     "name": "stdout",
     "output_type": "stream",
     "text": [
      "number of nodes in this component:  3099338\n"
     ]
    }
   ],
   "source": [
    "# visualize a components \n",
    "\n",
    "def get_component(components, query): \n",
    "    for component in components: \n",
    "        if query in component: \n",
    "            return list(component) \n",
    "    raise Exception(f\"{query} not in graph\")\n",
    "\n",
    "\n",
    "target_nodes = get_component(components_list, rand_query)\n",
    "print(\"number of nodes in this component: \", len(target_nodes))\n",
    "if len(target_nodes) < 10:\n",
    "    nx.draw_shell(G.subgraph(target_nodes))\n"
   ]
  },
  {
   "cell_type": "code",
   "execution_count": 56,
   "metadata": {},
   "outputs": [
    {
     "name": "stdout",
     "output_type": "stream",
     "text": [
      "['tag insurance', 'hatfield and mccoy', 'heartland family enterprises', 'fresh - egg z', 'wild about cats', 'hq gifts', 'fearless athletics', 'blog rus', 'eco playa products', 'ideal healthy life_style r']\n"
     ]
    }
   ],
   "source": [
    "print(target_nodes[:10])"
   ]
  },
  {
   "cell_type": "code",
   "execution_count": 68,
   "metadata": {},
   "outputs": [
    {
     "name": "stdout",
     "output_type": "stream",
     "text": [
      "number of small components,  1134537\n",
      "\n",
      "component nodes:  {'win camaro s', 'win the camaro', 'win a camaro'}\n"
     ]
    },
    {
     "data": {
      "image/png": "[encoded data removed]",
      "text/plain": [
       "<Figure size 432x288 with 1 Axes>"
      ]
     },
     "metadata": {},
     "output_type": "display_data"
    }
   ],
   "source": [
    "# visualize small components \n",
    "\n",
    "small_components = [component for component in components_list if len(component)<10]\n",
    "print(\"number of small components, \", len(small_components))\n",
    "\n",
    "rand_index = random.randint(0, len(small_components)-1)\n",
    "target_component = small_components[rand_index]\n",
    "\n",
    "print('\\ncomponent nodes: ', target_component)\n",
    "nx.draw_shell(G.subgraph(target_component), with_labels=True)\n",
    "plt.show()"
   ]
  },
  {
   "cell_type": "code",
   "execution_count": null,
   "metadata": {},
   "outputs": [],
   "source": [
    "# directed graph, realty -> realty agent , \n",
    "# weight, some writing are more popular than others \n",
    "# update graph near real-time, trending query, 20qps\n",
    "# build edge based on pseudo edge, substring"
   ]
  }
 ],
 "metadata": {
  "kernelspec": {
   "display_name": "Python 3.8.13 ('DeepRank')",
   "language": "python",
   "name": "python3"
  },
  "language_info": {
   "codemirror_mode": {
    "name": "ipython",
    "version": 3
   },
   "file_extension": ".py",
   "mimetype": "text/x-python",
   "name": "python",
   "nbconvert_exporter": "python",
   "pygments_lexer": "ipython3",
   "version": "3.8.13"
  },
  "orig_nbformat": 4,
  "vscode": {
   "interpreter": {
    "hash": "d299ec0e4ca22501682baeb174ab863662a70457e591dde93cb338e6e518fb3c"
   }
  }
 },
 "nbformat": 4,
 "nbformat_minor": 2
}
